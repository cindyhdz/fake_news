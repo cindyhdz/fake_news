{
 "cells": [
  {
   "cell_type": "code",
   "execution_count": 1,
   "id": "8928f30c",
   "metadata": {},
   "outputs": [],
   "source": [
    "## Import Libraries\n",
    "import pandas as pd\n",
    "import numpy as np\n",
    "import matplotlib.pyplot as plt\n",
    "import nltk\n",
    "from nltk.stem import PorterStemmer\n",
    "import re\n",
    "import tensorflow\n",
    "from tensorflow.keras.layers import Embedding, Dense, LSTM\n",
    "from tensorflow.keras.preprocessing.sequence import pad_sequences\n",
    "from tensorflow.keras.models import Sequential\n",
    "from tensorflow.keras.preprocessing.text import one_hot\n",
    "from sklearn.metrics import classification_report,accuracy_score\n",
    "from sklearn.linear_model import LogisticRegression\n",
    "from sklearn.tree import DecisionTreeClassifier\n",
    "from sklearn.ensemble import RandomForestClassifier\n",
    "from xgboost import XGBClassifier\n",
    "from catboost import CatBoostClassifier\n",
    "from sklearn.linear_model import LogisticRegression\n",
    "from sklearn.naive_bayes import MultinomialNB\n",
    "from imblearn.over_sampling import RandomOverSampler"
   ]
  },
  {
   "cell_type": "code",
   "execution_count": 2,
   "id": "722d2c3e",
   "metadata": {},
   "outputs": [],
   "source": [
    "## Test Data\n",
    "fake_test_data = pd.read_csv('./Data/test.csv')"
   ]
  },
  {
   "cell_type": "code",
   "execution_count": 3,
   "id": "a564cc9f",
   "metadata": {},
   "outputs": [
    {
     "data": {
      "text/html": [
       "<div>\n",
       "<style scoped>\n",
       "    .dataframe tbody tr th:only-of-type {\n",
       "        vertical-align: middle;\n",
       "    }\n",
       "\n",
       "    .dataframe tbody tr th {\n",
       "        vertical-align: top;\n",
       "    }\n",
       "\n",
       "    .dataframe thead th {\n",
       "        text-align: right;\n",
       "    }\n",
       "</style>\n",
       "<table border=\"1\" class=\"dataframe\">\n",
       "  <thead>\n",
       "    <tr style=\"text-align: right;\">\n",
       "      <th></th>\n",
       "      <th>id</th>\n",
       "      <th>title</th>\n",
       "      <th>author</th>\n",
       "      <th>text</th>\n",
       "    </tr>\n",
       "  </thead>\n",
       "  <tbody>\n",
       "    <tr>\n",
       "      <th>0</th>\n",
       "      <td>20800</td>\n",
       "      <td>Specter of Trump Loosens Tongues, if Not Purse...</td>\n",
       "      <td>David Streitfeld</td>\n",
       "      <td>PALO ALTO, Calif.  —   After years of scorning...</td>\n",
       "    </tr>\n",
       "    <tr>\n",
       "      <th>1</th>\n",
       "      <td>20801</td>\n",
       "      <td>Russian warships ready to strike terrorists ne...</td>\n",
       "      <td>NaN</td>\n",
       "      <td>Russian warships ready to strike terrorists ne...</td>\n",
       "    </tr>\n",
       "    <tr>\n",
       "      <th>2</th>\n",
       "      <td>20802</td>\n",
       "      <td>#NoDAPL: Native American Leaders Vow to Stay A...</td>\n",
       "      <td>Common Dreams</td>\n",
       "      <td>Videos #NoDAPL: Native American Leaders Vow to...</td>\n",
       "    </tr>\n",
       "    <tr>\n",
       "      <th>3</th>\n",
       "      <td>20803</td>\n",
       "      <td>Tim Tebow Will Attempt Another Comeback, This ...</td>\n",
       "      <td>Daniel Victor</td>\n",
       "      <td>If at first you don’t succeed, try a different...</td>\n",
       "    </tr>\n",
       "    <tr>\n",
       "      <th>4</th>\n",
       "      <td>20804</td>\n",
       "      <td>Keiser Report: Meme Wars (E995)</td>\n",
       "      <td>Truth Broadcast Network</td>\n",
       "      <td>42 mins ago 1 Views 0 Comments 0 Likes 'For th...</td>\n",
       "    </tr>\n",
       "  </tbody>\n",
       "</table>\n",
       "</div>"
      ],
      "text/plain": [
       "      id                                              title  \\\n",
       "0  20800  Specter of Trump Loosens Tongues, if Not Purse...   \n",
       "1  20801  Russian warships ready to strike terrorists ne...   \n",
       "2  20802  #NoDAPL: Native American Leaders Vow to Stay A...   \n",
       "3  20803  Tim Tebow Will Attempt Another Comeback, This ...   \n",
       "4  20804                    Keiser Report: Meme Wars (E995)   \n",
       "\n",
       "                    author                                               text  \n",
       "0         David Streitfeld  PALO ALTO, Calif.  —   After years of scorning...  \n",
       "1                      NaN  Russian warships ready to strike terrorists ne...  \n",
       "2            Common Dreams  Videos #NoDAPL: Native American Leaders Vow to...  \n",
       "3            Daniel Victor  If at first you don’t succeed, try a different...  \n",
       "4  Truth Broadcast Network  42 mins ago 1 Views 0 Comments 0 Likes 'For th...  "
      ]
     },
     "execution_count": 3,
     "metadata": {},
     "output_type": "execute_result"
    }
   ],
   "source": [
    "fake_test_data.head()"
   ]
  },
  {
   "cell_type": "code",
   "execution_count": 4,
   "id": "6d38ae39",
   "metadata": {},
   "outputs": [],
   "source": [
    "## create dataset\n",
    "fake_news_df = pd.read_csv('./Data/train.csv')"
   ]
  },
  {
   "cell_type": "code",
   "execution_count": 5,
   "id": "431c8d28",
   "metadata": {},
   "outputs": [
    {
     "data": {
      "text/html": [
       "<div>\n",
       "<style scoped>\n",
       "    .dataframe tbody tr th:only-of-type {\n",
       "        vertical-align: middle;\n",
       "    }\n",
       "\n",
       "    .dataframe tbody tr th {\n",
       "        vertical-align: top;\n",
       "    }\n",
       "\n",
       "    .dataframe thead th {\n",
       "        text-align: right;\n",
       "    }\n",
       "</style>\n",
       "<table border=\"1\" class=\"dataframe\">\n",
       "  <thead>\n",
       "    <tr style=\"text-align: right;\">\n",
       "      <th></th>\n",
       "      <th>id</th>\n",
       "      <th>title</th>\n",
       "      <th>author</th>\n",
       "      <th>text</th>\n",
       "      <th>label</th>\n",
       "    </tr>\n",
       "  </thead>\n",
       "  <tbody>\n",
       "    <tr>\n",
       "      <th>0</th>\n",
       "      <td>0</td>\n",
       "      <td>House Dem Aide: We Didn’t Even See Comey’s Let...</td>\n",
       "      <td>Darrell Lucus</td>\n",
       "      <td>House Dem Aide: We Didn’t Even See Comey’s Let...</td>\n",
       "      <td>1</td>\n",
       "    </tr>\n",
       "    <tr>\n",
       "      <th>1</th>\n",
       "      <td>1</td>\n",
       "      <td>FLYNN: Hillary Clinton, Big Woman on Campus - ...</td>\n",
       "      <td>Daniel J. Flynn</td>\n",
       "      <td>Ever get the feeling your life circles the rou...</td>\n",
       "      <td>0</td>\n",
       "    </tr>\n",
       "    <tr>\n",
       "      <th>2</th>\n",
       "      <td>2</td>\n",
       "      <td>Why the Truth Might Get You Fired</td>\n",
       "      <td>Consortiumnews.com</td>\n",
       "      <td>Why the Truth Might Get You Fired October 29, ...</td>\n",
       "      <td>1</td>\n",
       "    </tr>\n",
       "    <tr>\n",
       "      <th>3</th>\n",
       "      <td>3</td>\n",
       "      <td>15 Civilians Killed In Single US Airstrike Hav...</td>\n",
       "      <td>Jessica Purkiss</td>\n",
       "      <td>Videos 15 Civilians Killed In Single US Airstr...</td>\n",
       "      <td>1</td>\n",
       "    </tr>\n",
       "    <tr>\n",
       "      <th>4</th>\n",
       "      <td>4</td>\n",
       "      <td>Iranian woman jailed for fictional unpublished...</td>\n",
       "      <td>Howard Portnoy</td>\n",
       "      <td>Print \\nAn Iranian woman has been sentenced to...</td>\n",
       "      <td>1</td>\n",
       "    </tr>\n",
       "  </tbody>\n",
       "</table>\n",
       "</div>"
      ],
      "text/plain": [
       "   id                                              title              author  \\\n",
       "0   0  House Dem Aide: We Didn’t Even See Comey’s Let...       Darrell Lucus   \n",
       "1   1  FLYNN: Hillary Clinton, Big Woman on Campus - ...     Daniel J. Flynn   \n",
       "2   2                  Why the Truth Might Get You Fired  Consortiumnews.com   \n",
       "3   3  15 Civilians Killed In Single US Airstrike Hav...     Jessica Purkiss   \n",
       "4   4  Iranian woman jailed for fictional unpublished...      Howard Portnoy   \n",
       "\n",
       "                                                text  label  \n",
       "0  House Dem Aide: We Didn’t Even See Comey’s Let...      1  \n",
       "1  Ever get the feeling your life circles the rou...      0  \n",
       "2  Why the Truth Might Get You Fired October 29, ...      1  \n",
       "3  Videos 15 Civilians Killed In Single US Airstr...      1  \n",
       "4  Print \\nAn Iranian woman has been sentenced to...      1  "
      ]
     },
     "execution_count": 5,
     "metadata": {},
     "output_type": "execute_result"
    }
   ],
   "source": [
    "fake_news_df.head()"
   ]
  },
  {
   "cell_type": "code",
   "execution_count": 6,
   "id": "58ea8512",
   "metadata": {
    "scrolled": true
   },
   "outputs": [
    {
     "data": {
      "text/html": [
       "<div>\n",
       "<style scoped>\n",
       "    .dataframe tbody tr th:only-of-type {\n",
       "        vertical-align: middle;\n",
       "    }\n",
       "\n",
       "    .dataframe tbody tr th {\n",
       "        vertical-align: top;\n",
       "    }\n",
       "\n",
       "    .dataframe thead th {\n",
       "        text-align: right;\n",
       "    }\n",
       "</style>\n",
       "<table border=\"1\" class=\"dataframe\">\n",
       "  <thead>\n",
       "    <tr style=\"text-align: right;\">\n",
       "      <th></th>\n",
       "      <th>id</th>\n",
       "      <th>title</th>\n",
       "      <th>author</th>\n",
       "      <th>text</th>\n",
       "      <th>label</th>\n",
       "      <th>merged</th>\n",
       "    </tr>\n",
       "  </thead>\n",
       "  <tbody>\n",
       "    <tr>\n",
       "      <th>0</th>\n",
       "      <td>0</td>\n",
       "      <td>House Dem Aide: We Didn’t Even See Comey’s Let...</td>\n",
       "      <td>Darrell Lucus</td>\n",
       "      <td>House Dem Aide: We Didn’t Even See Comey’s Let...</td>\n",
       "      <td>1</td>\n",
       "      <td>House Dem Aide: We Didn’t Even See Comey’s Let...</td>\n",
       "    </tr>\n",
       "    <tr>\n",
       "      <th>1</th>\n",
       "      <td>1</td>\n",
       "      <td>FLYNN: Hillary Clinton, Big Woman on Campus - ...</td>\n",
       "      <td>Daniel J. Flynn</td>\n",
       "      <td>Ever get the feeling your life circles the rou...</td>\n",
       "      <td>0</td>\n",
       "      <td>FLYNN: Hillary Clinton, Big Woman on Campus - ...</td>\n",
       "    </tr>\n",
       "    <tr>\n",
       "      <th>2</th>\n",
       "      <td>2</td>\n",
       "      <td>Why the Truth Might Get You Fired</td>\n",
       "      <td>Consortiumnews.com</td>\n",
       "      <td>Why the Truth Might Get You Fired October 29, ...</td>\n",
       "      <td>1</td>\n",
       "      <td>Why the Truth Might Get You Fired Consortiumne...</td>\n",
       "    </tr>\n",
       "    <tr>\n",
       "      <th>3</th>\n",
       "      <td>3</td>\n",
       "      <td>15 Civilians Killed In Single US Airstrike Hav...</td>\n",
       "      <td>Jessica Purkiss</td>\n",
       "      <td>Videos 15 Civilians Killed In Single US Airstr...</td>\n",
       "      <td>1</td>\n",
       "      <td>15 Civilians Killed In Single US Airstrike Hav...</td>\n",
       "    </tr>\n",
       "    <tr>\n",
       "      <th>4</th>\n",
       "      <td>4</td>\n",
       "      <td>Iranian woman jailed for fictional unpublished...</td>\n",
       "      <td>Howard Portnoy</td>\n",
       "      <td>Print \\nAn Iranian woman has been sentenced to...</td>\n",
       "      <td>1</td>\n",
       "      <td>Iranian woman jailed for fictional unpublished...</td>\n",
       "    </tr>\n",
       "  </tbody>\n",
       "</table>\n",
       "</div>"
      ],
      "text/plain": [
       "   id                                              title              author  \\\n",
       "0   0  House Dem Aide: We Didn’t Even See Comey’s Let...       Darrell Lucus   \n",
       "1   1  FLYNN: Hillary Clinton, Big Woman on Campus - ...     Daniel J. Flynn   \n",
       "2   2                  Why the Truth Might Get You Fired  Consortiumnews.com   \n",
       "3   3  15 Civilians Killed In Single US Airstrike Hav...     Jessica Purkiss   \n",
       "4   4  Iranian woman jailed for fictional unpublished...      Howard Portnoy   \n",
       "\n",
       "                                                text  label  \\\n",
       "0  House Dem Aide: We Didn’t Even See Comey’s Let...      1   \n",
       "1  Ever get the feeling your life circles the rou...      0   \n",
       "2  Why the Truth Might Get You Fired October 29, ...      1   \n",
       "3  Videos 15 Civilians Killed In Single US Airstr...      1   \n",
       "4  Print \\nAn Iranian woman has been sentenced to...      1   \n",
       "\n",
       "                                              merged  \n",
       "0  House Dem Aide: We Didn’t Even See Comey’s Let...  \n",
       "1  FLYNN: Hillary Clinton, Big Woman on Campus - ...  \n",
       "2  Why the Truth Might Get You Fired Consortiumne...  \n",
       "3  15 Civilians Killed In Single US Airstrike Hav...  \n",
       "4  Iranian woman jailed for fictional unpublished...  "
      ]
     },
     "execution_count": 6,
     "metadata": {},
     "output_type": "execute_result"
    }
   ],
   "source": [
    "## Merge data for new column\n",
    "\n",
    "fake_news_df[\"merged\"] = fake_news_df[\"title\"]+\" \"+fake_news_df[\"author\"]\n",
    "\n",
    "fake_news_df.head()"
   ]
  },
  {
   "cell_type": "code",
   "execution_count": 7,
   "id": "eb58ea58",
   "metadata": {},
   "outputs": [
    {
     "data": {
      "text/plain": [
       "id           0\n",
       "title      558\n",
       "author    1957\n",
       "text        39\n",
       "label        0\n",
       "merged    2515\n",
       "dtype: int64"
      ]
     },
     "execution_count": 7,
     "metadata": {},
     "output_type": "execute_result"
    }
   ],
   "source": [
    "#  check null values\n",
    "fake_news_df.isnull().sum()"
   ]
  },
  {
   "cell_type": "code",
   "execution_count": 8,
   "id": "3efc964d",
   "metadata": {},
   "outputs": [],
   "source": [
    "# drop null values\n",
    "fake_news_df=fake_news_df.dropna()"
   ]
  },
  {
   "cell_type": "code",
   "execution_count": 9,
   "id": "17f19532",
   "metadata": {},
   "outputs": [
    {
     "name": "stdout",
     "output_type": "stream",
     "text": [
      "(array([0, 1]), array([10361,  7924]))\n"
     ]
    }
   ],
   "source": [
    "# Now count the Unique values using np.unique to find the elements of an array as parameter\n",
    "count = np.unique(fake_news_df['label'], return_counts=True)\n",
    "print(count)"
   ]
  },
  {
   "cell_type": "code",
   "execution_count": 10,
   "id": "ae14c6aa",
   "metadata": {},
   "outputs": [
    {
     "data": {
      "text/plain": [
       "<AxesSubplot:xlabel='label', ylabel='count'>"
      ]
     },
     "execution_count": 10,
     "metadata": {},
     "output_type": "execute_result"
    },
    {
     "data": {
      "image/png": "[encoded data removed]",
      "text/plain": [
       "<Figure size 432x288 with 1 Axes>"
      ]
     },
     "metadata": {
      "needs_background": "light"
     },
     "output_type": "display_data"
    }
   ],
   "source": [
    "import seaborn as sns\n",
    "sns.countplot(x='label', data = fake_news_df)"
   ]
  },
  {
   "cell_type": "code",
   "execution_count": 11,
   "id": "f319b7b9",
   "metadata": {},
   "outputs": [],
   "source": [
    "# Dependent Features\n",
    "Y = fake_news_df['label']\n",
    "\n",
    "# Independent Features\n",
    "X = fake_news_df.drop('label', axis=1)"
   ]
  },
  {
   "cell_type": "code",
   "execution_count": 12,
   "id": "f9619495",
   "metadata": {},
   "outputs": [],
   "source": [
    "# change the dataset into numerical representation\n",
    "# make the copy of Dependent Featues and reset the index because we drop the nan values due to this \n",
    "# the index is disturb\n",
    "messages = X.copy()\n",
    "# messages.reset_index(inplace=True)"
   ]
  },
  {
   "cell_type": "code",
   "execution_count": 13,
   "id": "96733dc7",
   "metadata": {},
   "outputs": [
    {
     "data": {
      "text/plain": [
       "'FLYNN: Hillary Clinton, Big Woman on Campus - Breitbart'"
      ]
     },
     "execution_count": 13,
     "metadata": {},
     "output_type": "execute_result"
    }
   ],
   "source": [
    "messages['title'][1]"
   ]
  },
  {
   "cell_type": "code",
   "execution_count": 14,
   "id": "342eb3ef",
   "metadata": {},
   "outputs": [],
   "source": [
    "messages.reset_index(inplace=True)"
   ]
  },
  {
   "cell_type": "code",
   "execution_count": 15,
   "id": "0b8c432a",
   "metadata": {},
   "outputs": [
    {
     "name": "stderr",
     "output_type": "stream",
     "text": [
      "[nltk_data] Downloading package stopwords to\n",
      "[nltk_data]     /Users/nataliakalugina/nltk_data...\n",
      "[nltk_data]   Package stopwords is already up-to-date!\n"
     ]
    },
    {
     "data": {
      "text/plain": [
       "True"
      ]
     },
     "execution_count": 15,
     "metadata": {},
     "output_type": "execute_result"
    }
   ],
   "source": [
    "# Data processing\n",
    "nltk.download('stopwords')"
   ]
  },
  {
   "cell_type": "code",
   "execution_count": 16,
   "id": "35161aed",
   "metadata": {},
   "outputs": [],
   "source": [
    "from nltk.corpus import stopwords\n",
    "stopwords = set(stopwords.words('english'))"
   ]
  },
  {
   "cell_type": "code",
   "execution_count": 17,
   "id": "ac01655b",
   "metadata": {},
   "outputs": [],
   "source": [
    "ps = PorterStemmer()\n",
    "corpus = []\n",
    "for i in range(0, len(messages)):\n",
    "    review = re.sub('[^a-zA-Z]', ' ', messages['merged'][i])\n",
    "    review = review.lower()\n",
    "    review = review.split()\n",
    "    \n",
    "    review = [ps.stem(word) for word in review if not word in stopwords]\n",
    "    review = ' '.join(review)\n",
    "    corpus.append(review)"
   ]
  },
  {
   "cell_type": "code",
   "execution_count": 18,
   "id": "e4887778",
   "metadata": {},
   "outputs": [
    {
     "data": {
      "text/plain": [
       "'flynn hillari clinton big woman campu breitbart daniel j flynn'"
      ]
     },
     "execution_count": 18,
     "metadata": {},
     "output_type": "execute_result"
    }
   ],
   "source": [
    "corpus[1]"
   ]
  },
  {
   "cell_type": "code",
   "execution_count": 19,
   "id": "968b7600",
   "metadata": {},
   "outputs": [
    {
     "data": {
      "text/plain": [
       "[3008, 3688, 4471, 3696, 3521, 4942, 2023, 157, 4646, 4513, 2142, 1158]"
      ]
     },
     "execution_count": 19,
     "metadata": {},
     "output_type": "execute_result"
    }
   ],
   "source": [
    "voc_size = 5000\n",
    "onehot_repre = [one_hot(words, voc_size) for words in corpus]\n",
    "onehot_repre[0]"
   ]
  },
  {
   "cell_type": "code",
   "execution_count": 20,
   "id": "60ecf3b4",
   "metadata": {},
   "outputs": [
    {
     "name": "stdout",
     "output_type": "stream",
     "text": [
      "[   0    0    0    0    0    0    0    0 3008 3688 4471 3696 3521 4942\n",
      " 2023  157 4646 4513 2142 1158]\n"
     ]
    }
   ],
   "source": [
    "# Word embedding\n",
    "sent_length = 20\n",
    "embedded_docs = pad_sequences(onehot_repre, padding='pre', maxlen=sent_length)\n",
    "print(embedded_docs[0])"
   ]
  },
  {
   "cell_type": "code",
   "execution_count": 21,
   "id": "8303c9be",
   "metadata": {},
   "outputs": [],
   "source": [
    "## CREATING A MODEL"
   ]
  },
  {
   "cell_type": "code",
   "execution_count": 22,
   "id": "7750ee78",
   "metadata": {},
   "outputs": [
    {
     "name": "stderr",
     "output_type": "stream",
     "text": [
      "2022-07-21 23:10:57.712780: I tensorflow/core/platform/cpu_feature_guard.cc:193] This TensorFlow binary is optimized with oneAPI Deep Neural Network Library (oneDNN) to use the following CPU instructions in performance-critical operations:  AVX2 FMA\n",
      "To enable them in other operations, rebuild TensorFlow with the appropriate compiler flags.\n"
     ]
    },
    {
     "name": "stdout",
     "output_type": "stream",
     "text": [
      "Model: \"sequential\"\n",
      "_________________________________________________________________\n",
      " Layer (type)                Output Shape              Param #   \n",
      "=================================================================\n",
      " embedding (Embedding)       (None, 20, 40)            200000    \n",
      "                                                                 \n",
      " lstm (LSTM)                 (None, 100)               56400     \n",
      "                                                                 \n",
      " dense (Dense)               (None, 1)                 101       \n",
      "                                                                 \n",
      "=================================================================\n",
      "Total params: 256,501\n",
      "Trainable params: 256,501\n",
      "Non-trainable params: 0\n",
      "_________________________________________________________________\n",
      "None\n"
     ]
    }
   ],
   "source": [
    "embedding_vector_features = 40\n",
    "model = Sequential()\n",
    "model.add(Embedding(voc_size, embedding_vector_features, input_length=sent_length))\n",
    "model.add(LSTM(100))\n",
    "model.add(Dense(1, activation='sigmoid'))\n",
    "model.compile(loss='binary_crossentropy', optimizer='adam', metrics=['accuracy'])\n",
    "print(model.summary())"
   ]
  },
  {
   "cell_type": "code",
   "execution_count": 23,
   "id": "2bd6f7ce",
   "metadata": {},
   "outputs": [],
   "source": [
    "x_final = np.array(embedded_docs)\n",
    "y_final = np.array(Y)"
   ]
  },
  {
   "cell_type": "code",
   "execution_count": 24,
   "id": "4a52f34e",
   "metadata": {},
   "outputs": [
    {
     "data": {
      "text/plain": [
       "((18285, 20), (18285,))"
      ]
     },
     "execution_count": 24,
     "metadata": {},
     "output_type": "execute_result"
    }
   ],
   "source": [
    "x_final.shape, y_final.shape"
   ]
  },
  {
   "cell_type": "code",
   "execution_count": 25,
   "id": "a38dcec7",
   "metadata": {},
   "outputs": [],
   "source": [
    "## SPLIT THE DATA INTO TRAIN AND TEST\n",
    "from sklearn.model_selection import train_test_split\n",
    "X_train, X_test, y_train, y_test = train_test_split(x_final, y_final, test_size=0.1, random_state=42)"
   ]
  },
  {
   "cell_type": "code",
   "execution_count": 26,
   "id": "edcb9feb",
   "metadata": {},
   "outputs": [
    {
     "name": "stdout",
     "output_type": "stream",
     "text": [
      "Epoch 1/20\n",
      "258/258 [==============================] - 6s 16ms/step - loss: 0.1923 - accuracy: 0.9173 - val_loss: 0.0321 - val_accuracy: 0.9874\n",
      "Epoch 2/20\n",
      "258/258 [==============================] - 3s 13ms/step - loss: 0.0212 - accuracy: 0.9937 - val_loss: 0.0221 - val_accuracy: 0.9929\n",
      "Epoch 3/20\n",
      "258/258 [==============================] - 3s 12ms/step - loss: 0.0092 - accuracy: 0.9978 - val_loss: 0.0176 - val_accuracy: 0.9934\n",
      "Epoch 4/20\n",
      "258/258 [==============================] - 4s 14ms/step - loss: 0.0034 - accuracy: 0.9993 - val_loss: 0.0205 - val_accuracy: 0.9929\n",
      "Epoch 5/20\n",
      "258/258 [==============================] - 4s 14ms/step - loss: 0.0013 - accuracy: 0.9998 - val_loss: 0.0190 - val_accuracy: 0.9929\n",
      "Epoch 6/20\n",
      "258/258 [==============================] - 3s 13ms/step - loss: 2.8397e-04 - accuracy: 1.0000 - val_loss: 0.0242 - val_accuracy: 0.9923\n",
      "Epoch 7/20\n",
      "258/258 [==============================] - 3s 13ms/step - loss: 1.0496e-04 - accuracy: 1.0000 - val_loss: 0.0263 - val_accuracy: 0.9923\n",
      "Epoch 8/20\n",
      "258/258 [==============================] - 3s 13ms/step - loss: 6.5867e-05 - accuracy: 1.0000 - val_loss: 0.0267 - val_accuracy: 0.9923\n",
      "Epoch 9/20\n",
      "258/258 [==============================] - 3s 13ms/step - loss: 4.7222e-05 - accuracy: 1.0000 - val_loss: 0.0303 - val_accuracy: 0.9918\n",
      "Epoch 10/20\n",
      "258/258 [==============================] - 3s 13ms/step - loss: 3.6258e-05 - accuracy: 1.0000 - val_loss: 0.0282 - val_accuracy: 0.9923\n",
      "Epoch 11/20\n",
      "258/258 [==============================] - 4s 14ms/step - loss: 2.8036e-05 - accuracy: 1.0000 - val_loss: 0.0319 - val_accuracy: 0.9913\n",
      "Epoch 12/20\n",
      "258/258 [==============================] - 4s 14ms/step - loss: 2.1687e-05 - accuracy: 1.0000 - val_loss: 0.0327 - val_accuracy: 0.9918\n",
      "Epoch 13/20\n",
      "258/258 [==============================] - 4s 14ms/step - loss: 1.7302e-05 - accuracy: 1.0000 - val_loss: 0.0361 - val_accuracy: 0.9907\n",
      "Epoch 14/20\n",
      "258/258 [==============================] - 4s 14ms/step - loss: 1.4185e-05 - accuracy: 1.0000 - val_loss: 0.0361 - val_accuracy: 0.9907\n",
      "Epoch 15/20\n",
      "258/258 [==============================] - 4s 14ms/step - loss: 1.2133e-05 - accuracy: 1.0000 - val_loss: 0.0349 - val_accuracy: 0.9918\n",
      "Epoch 16/20\n",
      "258/258 [==============================] - 4s 14ms/step - loss: 9.8842e-06 - accuracy: 1.0000 - val_loss: 0.0357 - val_accuracy: 0.9907\n",
      "Epoch 17/20\n",
      "258/258 [==============================] - 3s 13ms/step - loss: 8.4200e-06 - accuracy: 1.0000 - val_loss: 0.0356 - val_accuracy: 0.9923\n",
      "Epoch 18/20\n",
      "258/258 [==============================] - 4s 14ms/step - loss: 6.8084e-06 - accuracy: 1.0000 - val_loss: 0.0404 - val_accuracy: 0.9913\n",
      "Epoch 19/20\n",
      "258/258 [==============================] - 4s 14ms/step - loss: 5.8219e-06 - accuracy: 1.0000 - val_loss: 0.0425 - val_accuracy: 0.9902\n",
      "Epoch 20/20\n",
      "258/258 [==============================] - 4s 14ms/step - loss: 4.9835e-06 - accuracy: 1.0000 - val_loss: 0.0407 - val_accuracy: 0.9918\n"
     ]
    },
    {
     "data": {
      "text/plain": [
       "<keras.callbacks.History at 0x7f9f6e9c3ac0>"
      ]
     },
     "execution_count": 26,
     "metadata": {},
     "output_type": "execute_result"
    }
   ],
   "source": [
    "# MODEL TRAINING\n",
    "model.fit(X_train, y_train, validation_data=(X_test, y_test), epochs=20, batch_size=64)\n"
   ]
  },
  {
   "cell_type": "code",
   "execution_count": 27,
   "id": "063f10d6",
   "metadata": {},
   "outputs": [
    {
     "name": "stdout",
     "output_type": "stream",
     "text": [
      "58/58 [==============================] - 1s 3ms/step\n"
     ]
    }
   ],
   "source": [
    "# PERFORMANCE METRICS AND ACCURACY\n",
    "classes_x = (model.predict(X_test) > 0.5).astype(\"int32\")"
   ]
  },
  {
   "cell_type": "code",
   "execution_count": 28,
   "id": "43d7b269",
   "metadata": {},
   "outputs": [
    {
     "data": {
      "text/plain": [
       "array([[1033,    3],\n",
       "       [  12,  781]])"
      ]
     },
     "execution_count": 28,
     "metadata": {},
     "output_type": "execute_result"
    }
   ],
   "source": [
    "# Confusion Matrix\n",
    "from sklearn.metrics import confusion_matrix\n",
    "confusion_matrix(y_test, classes_x)"
   ]
  },
  {
   "cell_type": "code",
   "execution_count": 29,
   "id": "7364a167",
   "metadata": {},
   "outputs": [
    {
     "name": "stdout",
     "output_type": "stream",
     "text": [
      "0.9917987971569163\n"
     ]
    }
   ],
   "source": [
    "#Accuracy Scores for multiple models\n",
    "from sklearn.metrics import accuracy_score\n",
    "score_0 = accuracy_score(y_test,classes_x)\n",
    "print(score_0)"
   ]
  },
  {
   "cell_type": "code",
   "execution_count": 30,
   "id": "70813006",
   "metadata": {},
   "outputs": [
    {
     "name": "stdout",
     "output_type": "stream",
     "text": [
      "0.7151448879168945\n"
     ]
    }
   ],
   "source": [
    "# Model 1 is the Logistic Regression Model\n",
    "model_1 = LogisticRegression(max_iter=900)\n",
    "model_1.fit(X_train,y_train)\n",
    "pred_1 = model_1.predict(X_test)\n",
    "\n",
    "score_1 = accuracy_score(y_test,pred_1)\n",
    "print(score_1)"
   ]
  },
  {
   "cell_type": "code",
   "execution_count": 32,
   "id": "c7ee5b27",
   "metadata": {},
   "outputs": [
    {
     "name": "stdout",
     "output_type": "stream",
     "text": [
      "58/58 [==============================] - 0s 4ms/step\n",
      "0.7102013515947943\n"
     ]
    }
   ],
   "source": [
    "# Model 2 is Random Over Sampler\n",
    "# Resample the training data with the RandomOverSampler\n",
    "from imblearn.over_sampling import RandomOverSampler\n",
    "\n",
    "model_2 = RandomOverSampler(random_state=1)\n",
    "X_resampled, y_resampled = model_2.fit_resample(X_train, y_train)\n",
    "pred_2 = model.predict(X_test)\n",
    "\n",
    "from sklearn.linear_model import LogisticRegression\n",
    "model_2 = LogisticRegression(solver='lbfgs', random_state=1)\n",
    "model_2.fit(X_resampled, y_resampled)\n",
    "\n",
    "# Calculate the balanced accuracy score\n",
    "pred_3 = model_2.predict(X_test)\n",
    "\n",
    "from sklearn.metrics import balanced_accuracy_score\n",
    "score_2 = balanced_accuracy_score(y_test,pred_3)\n",
    "print(score_2)"
   ]
  },
  {
   "cell_type": "code",
   "execution_count": 33,
   "id": "9f303076",
   "metadata": {},
   "outputs": [
    {
     "name": "stdout",
     "output_type": "stream",
     "text": [
      "0.9043193001640241\n"
     ]
    }
   ],
   "source": [
    "# Random Forest Classifier model\n",
    "model_4 = RandomForestClassifier()\n",
    "model_4.fit(X_train,y_train)\n",
    "pred_4 = model_4.predict(X_test)\n",
    "# cr4    = classification_report(y_test,pred_4)\n",
    "# print(cr4)\n",
    "score_4 = accuracy_score(y_test,pred_4)\n",
    "print(score_4)"
   ]
  },
  {
   "cell_type": "code",
   "execution_count": 34,
   "id": "cca2ecb2",
   "metadata": {},
   "outputs": [
    {
     "ename": "AttributeError",
     "evalue": "'ClusterCentroids' object has no attribute 'predict'",
     "output_type": "error",
     "traceback": [
      "\u001b[0;31m---------------------------------------------------------------------------\u001b[0m",
      "\u001b[0;31mAttributeError\u001b[0m                            Traceback (most recent call last)",
      "Input \u001b[0;32mIn [34]\u001b[0m, in \u001b[0;36m<cell line: 6>\u001b[0;34m()\u001b[0m\n\u001b[1;32m      3\u001b[0m model_5 \u001b[38;5;241m=\u001b[39m ClusterCentroids(random_state\u001b[38;5;241m=\u001b[39m\u001b[38;5;241m0\u001b[39m)\n\u001b[1;32m      4\u001b[0m X_resampled, y_resampled \u001b[38;5;241m=\u001b[39m model_5\u001b[38;5;241m.\u001b[39mfit_resample(X_train, y_train)\n\u001b[0;32m----> 6\u001b[0m pred_5 \u001b[38;5;241m=\u001b[39m \u001b[43mmodel_5\u001b[49m\u001b[38;5;241;43m.\u001b[39;49m\u001b[43mpredict\u001b[49m(X_test)\n\u001b[1;32m      7\u001b[0m \u001b[38;5;66;03m# cr5    = classification_report(y_test,pred_5)\u001b[39;00m\n\u001b[1;32m      8\u001b[0m \u001b[38;5;66;03m# print(cr5)\u001b[39;00m\n\u001b[1;32m      9\u001b[0m score_5 \u001b[38;5;241m=\u001b[39m accuracy_score(y_test,pred_5)\n",
      "\u001b[0;31mAttributeError\u001b[0m: 'ClusterCentroids' object has no attribute 'predict'"
     ]
    }
   ],
   "source": [
    "from imblearn.under_sampling import ClusterCentroids\n",
    "\n",
    "model_5 = ClusterCentroids(random_state=0)\n",
    "X_resampled, y_resampled = model_5.fit_resample(X_train, y_train)\n",
    "\n",
    "pred_5 = model_5.predict(X_test)\n",
    "# cr5    = classification_report(y_test,pred_5)\n",
    "# print(cr5)\n",
    "score_5 = accuracy_score(y_test,pred_5)\n",
    "print(score_5)"
   ]
  },
  {
   "cell_type": "code",
   "execution_count": null,
   "id": "60ce41d1",
   "metadata": {},
   "outputs": [],
   "source": [
    "# Resample the training data with SMOTEENN\n",
    "# Warning: This is a large dataset, and this step may take some time to complete\n",
    "from imblearn.combine import SMOTEENN\n",
    "\n",
    "sm = SMOTEENN(random_state=0)\n",
    "X_resampled, y_resampled = sm.fit_resample(X_train, y_train)\n",
    "\n",
    "model_6 = LogisticRegression(solver='lbfgs', random_state=1)\n",
    "model_6.fit(X_resampled, y_resampled)\n",
    "\n",
    "pred_6 = model_6.predict(X_test)\n",
    "\n",
    "from sklearn.metrics import balanced_accuracy_score\n",
    "score_6 = balanced_accuracy_score(y_test,pred_6)\n",
    "print(score_6)"
   ]
  },
  {
   "cell_type": "code",
   "execution_count": 38,
   "id": "8245dcf7",
   "metadata": {},
   "outputs": [
    {
     "name": "stdout",
     "output_type": "stream",
     "text": [
      "Learning rate set to 0.149025\n",
      "0:\tlearn: 0.6024878\ttotal: 5.32ms\tremaining: 1.06s\n",
      "1:\tlearn: 0.5305078\ttotal: 9.8ms\tremaining: 970ms\n",
      "2:\tlearn: 0.4845246\ttotal: 14.6ms\tremaining: 960ms\n",
      "3:\tlearn: 0.4421794\ttotal: 19.4ms\tremaining: 951ms\n",
      "4:\tlearn: 0.4209076\ttotal: 23.8ms\tremaining: 927ms\n",
      "5:\tlearn: 0.4000616\ttotal: 28.2ms\tremaining: 911ms\n",
      "6:\tlearn: 0.3865270\ttotal: 32.3ms\tremaining: 890ms\n",
      "7:\tlearn: 0.3771853\ttotal: 37.8ms\tremaining: 906ms\n",
      "8:\tlearn: 0.3622375\ttotal: 41.8ms\tremaining: 888ms\n",
      "9:\tlearn: 0.3546364\ttotal: 48.1ms\tremaining: 914ms\n",
      "10:\tlearn: 0.3465262\ttotal: 52.9ms\tremaining: 908ms\n",
      "11:\tlearn: 0.3413523\ttotal: 57.8ms\tremaining: 906ms\n",
      "12:\tlearn: 0.3335820\ttotal: 62.6ms\tremaining: 901ms\n",
      "13:\tlearn: 0.3241545\ttotal: 69.5ms\tremaining: 923ms\n",
      "14:\tlearn: 0.3207486\ttotal: 74.8ms\tremaining: 923ms\n",
      "15:\tlearn: 0.3163325\ttotal: 79.3ms\tremaining: 912ms\n",
      "16:\tlearn: 0.3080447\ttotal: 83.7ms\tremaining: 901ms\n",
      "17:\tlearn: 0.3033320\ttotal: 87.9ms\tremaining: 889ms\n",
      "18:\tlearn: 0.2983546\ttotal: 92.1ms\tremaining: 878ms\n",
      "19:\tlearn: 0.2950006\ttotal: 96.2ms\tremaining: 866ms\n",
      "20:\tlearn: 0.2901694\ttotal: 100ms\tremaining: 853ms\n",
      "21:\tlearn: 0.2855562\ttotal: 104ms\tremaining: 843ms\n",
      "22:\tlearn: 0.2803951\ttotal: 108ms\tremaining: 834ms\n",
      "23:\tlearn: 0.2733349\ttotal: 112ms\tremaining: 825ms\n",
      "24:\tlearn: 0.2699054\ttotal: 116ms\tremaining: 815ms\n",
      "25:\tlearn: 0.2653777\ttotal: 121ms\tremaining: 807ms\n",
      "26:\tlearn: 0.2622313\ttotal: 125ms\tremaining: 800ms\n",
      "27:\tlearn: 0.2579649\ttotal: 130ms\tremaining: 796ms\n",
      "28:\tlearn: 0.2542232\ttotal: 134ms\tremaining: 789ms\n",
      "29:\tlearn: 0.2498860\ttotal: 138ms\tremaining: 784ms\n",
      "30:\tlearn: 0.2470820\ttotal: 142ms\tremaining: 776ms\n",
      "31:\tlearn: 0.2445707\ttotal: 146ms\tremaining: 769ms\n",
      "32:\tlearn: 0.2409290\ttotal: 150ms\tremaining: 761ms\n",
      "33:\tlearn: 0.2393238\ttotal: 154ms\tremaining: 752ms\n",
      "34:\tlearn: 0.2365751\ttotal: 158ms\tremaining: 746ms\n",
      "35:\tlearn: 0.2317322\ttotal: 162ms\tremaining: 740ms\n",
      "36:\tlearn: 0.2302224\ttotal: 166ms\tremaining: 733ms\n",
      "37:\tlearn: 0.2280203\ttotal: 170ms\tremaining: 726ms\n",
      "38:\tlearn: 0.2258423\ttotal: 174ms\tremaining: 718ms\n",
      "39:\tlearn: 0.2235551\ttotal: 178ms\tremaining: 712ms\n",
      "40:\tlearn: 0.2220751\ttotal: 182ms\tremaining: 705ms\n",
      "41:\tlearn: 0.2194673\ttotal: 186ms\tremaining: 699ms\n",
      "42:\tlearn: 0.2187161\ttotal: 190ms\tremaining: 693ms\n",
      "43:\tlearn: 0.2180835\ttotal: 195ms\tremaining: 692ms\n",
      "44:\tlearn: 0.2155936\ttotal: 200ms\tremaining: 688ms\n",
      "45:\tlearn: 0.2125720\ttotal: 206ms\tremaining: 691ms\n",
      "46:\tlearn: 0.2102024\ttotal: 214ms\tremaining: 697ms\n",
      "47:\tlearn: 0.2074793\ttotal: 221ms\tremaining: 699ms\n",
      "48:\tlearn: 0.2065453\ttotal: 226ms\tremaining: 697ms\n",
      "49:\tlearn: 0.2037476\ttotal: 230ms\tremaining: 690ms\n",
      "50:\tlearn: 0.2032549\ttotal: 234ms\tremaining: 684ms\n",
      "51:\tlearn: 0.2016701\ttotal: 238ms\tremaining: 677ms\n",
      "52:\tlearn: 0.1998099\ttotal: 242ms\tremaining: 671ms\n",
      "53:\tlearn: 0.1963877\ttotal: 246ms\tremaining: 665ms\n",
      "54:\tlearn: 0.1950896\ttotal: 250ms\tremaining: 660ms\n",
      "55:\tlearn: 0.1941917\ttotal: 255ms\tremaining: 655ms\n",
      "56:\tlearn: 0.1918321\ttotal: 259ms\tremaining: 650ms\n",
      "57:\tlearn: 0.1902965\ttotal: 264ms\tremaining: 647ms\n",
      "58:\tlearn: 0.1877643\ttotal: 268ms\tremaining: 640ms\n",
      "59:\tlearn: 0.1857696\ttotal: 272ms\tremaining: 635ms\n",
      "60:\tlearn: 0.1839712\ttotal: 276ms\tremaining: 629ms\n",
      "61:\tlearn: 0.1824254\ttotal: 280ms\tremaining: 623ms\n",
      "62:\tlearn: 0.1798676\ttotal: 283ms\tremaining: 616ms\n",
      "63:\tlearn: 0.1782139\ttotal: 288ms\tremaining: 611ms\n",
      "64:\tlearn: 0.1762824\ttotal: 291ms\tremaining: 605ms\n",
      "65:\tlearn: 0.1739636\ttotal: 295ms\tremaining: 599ms\n",
      "66:\tlearn: 0.1715924\ttotal: 299ms\tremaining: 593ms\n",
      "67:\tlearn: 0.1692666\ttotal: 303ms\tremaining: 587ms\n",
      "68:\tlearn: 0.1679574\ttotal: 307ms\tremaining: 582ms\n",
      "69:\tlearn: 0.1662770\ttotal: 311ms\tremaining: 577ms\n",
      "70:\tlearn: 0.1633898\ttotal: 314ms\tremaining: 571ms\n",
      "71:\tlearn: 0.1616181\ttotal: 318ms\tremaining: 565ms\n",
      "72:\tlearn: 0.1602836\ttotal: 322ms\tremaining: 560ms\n",
      "73:\tlearn: 0.1591885\ttotal: 326ms\tremaining: 555ms\n",
      "74:\tlearn: 0.1568343\ttotal: 330ms\tremaining: 550ms\n",
      "75:\tlearn: 0.1562985\ttotal: 334ms\tremaining: 545ms\n",
      "76:\tlearn: 0.1537619\ttotal: 338ms\tremaining: 540ms\n",
      "77:\tlearn: 0.1521271\ttotal: 342ms\tremaining: 535ms\n",
      "78:\tlearn: 0.1505059\ttotal: 346ms\tremaining: 529ms\n",
      "79:\tlearn: 0.1480853\ttotal: 349ms\tremaining: 524ms\n",
      "80:\tlearn: 0.1463002\ttotal: 353ms\tremaining: 519ms\n",
      "81:\tlearn: 0.1446962\ttotal: 357ms\tremaining: 514ms\n",
      "82:\tlearn: 0.1432071\ttotal: 361ms\tremaining: 509ms\n",
      "83:\tlearn: 0.1423283\ttotal: 365ms\tremaining: 504ms\n",
      "84:\tlearn: 0.1407915\ttotal: 369ms\tremaining: 499ms\n",
      "85:\tlearn: 0.1396191\ttotal: 373ms\tremaining: 494ms\n",
      "86:\tlearn: 0.1388640\ttotal: 376ms\tremaining: 489ms\n",
      "87:\tlearn: 0.1380559\ttotal: 381ms\tremaining: 484ms\n",
      "88:\tlearn: 0.1366511\ttotal: 385ms\tremaining: 480ms\n",
      "89:\tlearn: 0.1353178\ttotal: 389ms\tremaining: 475ms\n",
      "90:\tlearn: 0.1345489\ttotal: 393ms\tremaining: 471ms\n",
      "91:\tlearn: 0.1329651\ttotal: 398ms\tremaining: 467ms\n",
      "92:\tlearn: 0.1315705\ttotal: 403ms\tremaining: 463ms\n",
      "93:\tlearn: 0.1303845\ttotal: 407ms\tremaining: 459ms\n",
      "94:\tlearn: 0.1286969\ttotal: 412ms\tremaining: 455ms\n",
      "95:\tlearn: 0.1273724\ttotal: 418ms\tremaining: 453ms\n",
      "96:\tlearn: 0.1263456\ttotal: 423ms\tremaining: 450ms\n",
      "97:\tlearn: 0.1251834\ttotal: 430ms\tremaining: 448ms\n",
      "98:\tlearn: 0.1243602\ttotal: 437ms\tremaining: 445ms\n",
      "99:\tlearn: 0.1237091\ttotal: 441ms\tremaining: 441ms\n",
      "100:\tlearn: 0.1225092\ttotal: 447ms\tremaining: 438ms\n",
      "101:\tlearn: 0.1217063\ttotal: 452ms\tremaining: 434ms\n",
      "102:\tlearn: 0.1200053\ttotal: 456ms\tremaining: 430ms\n",
      "103:\tlearn: 0.1187811\ttotal: 462ms\tremaining: 426ms\n",
      "104:\tlearn: 0.1168065\ttotal: 466ms\tremaining: 422ms\n",
      "105:\tlearn: 0.1164379\ttotal: 471ms\tremaining: 418ms\n",
      "106:\tlearn: 0.1157133\ttotal: 475ms\tremaining: 413ms\n",
      "107:\tlearn: 0.1144593\ttotal: 479ms\tremaining: 408ms\n",
      "108:\tlearn: 0.1135427\ttotal: 484ms\tremaining: 404ms\n",
      "109:\tlearn: 0.1129416\ttotal: 488ms\tremaining: 399ms\n",
      "110:\tlearn: 0.1115214\ttotal: 492ms\tremaining: 395ms\n",
      "111:\tlearn: 0.1107114\ttotal: 497ms\tremaining: 390ms\n",
      "112:\tlearn: 0.1089964\ttotal: 501ms\tremaining: 385ms\n",
      "113:\tlearn: 0.1076319\ttotal: 505ms\tremaining: 381ms\n",
      "114:\tlearn: 0.1069522\ttotal: 509ms\tremaining: 376ms\n",
      "115:\tlearn: 0.1059076\ttotal: 513ms\tremaining: 372ms\n",
      "116:\tlearn: 0.1052054\ttotal: 517ms\tremaining: 367ms\n",
      "117:\tlearn: 0.1044387\ttotal: 521ms\tremaining: 362ms\n",
      "118:\tlearn: 0.1039158\ttotal: 525ms\tremaining: 357ms\n",
      "119:\tlearn: 0.1031469\ttotal: 529ms\tremaining: 352ms\n",
      "120:\tlearn: 0.1021011\ttotal: 533ms\tremaining: 348ms\n",
      "121:\tlearn: 0.1011261\ttotal: 537ms\tremaining: 343ms\n",
      "122:\tlearn: 0.1000215\ttotal: 541ms\tremaining: 338ms\n",
      "123:\tlearn: 0.0996577\ttotal: 544ms\tremaining: 334ms\n",
      "124:\tlearn: 0.0992814\ttotal: 548ms\tremaining: 329ms\n",
      "125:\tlearn: 0.0985819\ttotal: 552ms\tremaining: 324ms\n",
      "126:\tlearn: 0.0978400\ttotal: 555ms\tremaining: 319ms\n",
      "127:\tlearn: 0.0969949\ttotal: 559ms\tremaining: 314ms\n",
      "128:\tlearn: 0.0964188\ttotal: 562ms\tremaining: 309ms\n",
      "129:\tlearn: 0.0957080\ttotal: 566ms\tremaining: 305ms\n",
      "130:\tlearn: 0.0951430\ttotal: 569ms\tremaining: 300ms\n",
      "131:\tlearn: 0.0947337\ttotal: 573ms\tremaining: 295ms\n",
      "132:\tlearn: 0.0935835\ttotal: 578ms\tremaining: 291ms\n",
      "133:\tlearn: 0.0927726\ttotal: 583ms\tremaining: 287ms\n",
      "134:\tlearn: 0.0917755\ttotal: 587ms\tremaining: 282ms\n",
      "135:\tlearn: 0.0915367\ttotal: 591ms\tremaining: 278ms\n",
      "136:\tlearn: 0.0911540\ttotal: 595ms\tremaining: 273ms\n",
      "137:\tlearn: 0.0908047\ttotal: 599ms\tremaining: 269ms\n",
      "138:\tlearn: 0.0898677\ttotal: 603ms\tremaining: 265ms\n",
      "139:\tlearn: 0.0894333\ttotal: 608ms\tremaining: 261ms\n",
      "140:\tlearn: 0.0890188\ttotal: 612ms\tremaining: 256ms\n",
      "141:\tlearn: 0.0886321\ttotal: 615ms\tremaining: 251ms\n",
      "142:\tlearn: 0.0876371\ttotal: 619ms\tremaining: 247ms\n",
      "143:\tlearn: 0.0873355\ttotal: 624ms\tremaining: 243ms\n",
      "144:\tlearn: 0.0870347\ttotal: 628ms\tremaining: 238ms\n",
      "145:\tlearn: 0.0865441\ttotal: 631ms\tremaining: 234ms\n",
      "146:\tlearn: 0.0860959\ttotal: 635ms\tremaining: 229ms\n",
      "147:\tlearn: 0.0855968\ttotal: 639ms\tremaining: 224ms\n",
      "148:\tlearn: 0.0854266\ttotal: 642ms\tremaining: 220ms\n",
      "149:\tlearn: 0.0848193\ttotal: 646ms\tremaining: 215ms\n",
      "150:\tlearn: 0.0842348\ttotal: 650ms\tremaining: 211ms\n",
      "151:\tlearn: 0.0835244\ttotal: 653ms\tremaining: 206ms\n",
      "152:\tlearn: 0.0829896\ttotal: 657ms\tremaining: 202ms\n",
      "153:\tlearn: 0.0824624\ttotal: 660ms\tremaining: 197ms\n",
      "154:\tlearn: 0.0820098\ttotal: 664ms\tremaining: 193ms\n",
      "155:\tlearn: 0.0817486\ttotal: 668ms\tremaining: 188ms\n",
      "156:\tlearn: 0.0813167\ttotal: 671ms\tremaining: 184ms\n",
      "157:\tlearn: 0.0810717\ttotal: 675ms\tremaining: 179ms\n",
      "158:\tlearn: 0.0808053\ttotal: 678ms\tremaining: 175ms\n",
      "159:\tlearn: 0.0801503\ttotal: 682ms\tremaining: 170ms\n",
      "160:\tlearn: 0.0796409\ttotal: 686ms\tremaining: 166ms\n",
      "161:\tlearn: 0.0790899\ttotal: 689ms\tremaining: 162ms\n",
      "162:\tlearn: 0.0787588\ttotal: 693ms\tremaining: 157ms\n",
      "163:\tlearn: 0.0784365\ttotal: 697ms\tremaining: 153ms\n",
      "164:\tlearn: 0.0783107\ttotal: 700ms\tremaining: 149ms\n",
      "165:\tlearn: 0.0774452\ttotal: 704ms\tremaining: 144ms\n",
      "166:\tlearn: 0.0769079\ttotal: 708ms\tremaining: 140ms\n",
      "167:\tlearn: 0.0762664\ttotal: 712ms\tremaining: 136ms\n",
      "168:\tlearn: 0.0758486\ttotal: 715ms\tremaining: 131ms\n",
      "169:\tlearn: 0.0753939\ttotal: 719ms\tremaining: 127ms\n",
      "170:\tlearn: 0.0751916\ttotal: 722ms\tremaining: 123ms\n",
      "171:\tlearn: 0.0748485\ttotal: 726ms\tremaining: 118ms\n",
      "172:\tlearn: 0.0743029\ttotal: 730ms\tremaining: 114ms\n",
      "173:\tlearn: 0.0741541\ttotal: 733ms\tremaining: 110ms\n",
      "174:\tlearn: 0.0738746\ttotal: 737ms\tremaining: 105ms\n",
      "175:\tlearn: 0.0731348\ttotal: 741ms\tremaining: 101ms\n",
      "176:\tlearn: 0.0723520\ttotal: 745ms\tremaining: 96.8ms\n",
      "177:\tlearn: 0.0719324\ttotal: 748ms\tremaining: 92.5ms\n",
      "178:\tlearn: 0.0717137\ttotal: 753ms\tremaining: 88.3ms\n",
      "179:\tlearn: 0.0713199\ttotal: 756ms\tremaining: 84ms\n",
      "180:\tlearn: 0.0709973\ttotal: 761ms\tremaining: 79.8ms\n",
      "181:\tlearn: 0.0699747\ttotal: 765ms\tremaining: 75.7ms\n",
      "182:\tlearn: 0.0696717\ttotal: 770ms\tremaining: 71.5ms\n"
     ]
    },
    {
     "name": "stdout",
     "output_type": "stream",
     "text": [
      "183:\tlearn: 0.0693756\ttotal: 776ms\tremaining: 67.4ms\n",
      "184:\tlearn: 0.0688884\ttotal: 781ms\tremaining: 63.4ms\n",
      "185:\tlearn: 0.0686400\ttotal: 786ms\tremaining: 59.1ms\n",
      "186:\tlearn: 0.0684072\ttotal: 791ms\tremaining: 55ms\n",
      "187:\tlearn: 0.0682819\ttotal: 796ms\tremaining: 50.8ms\n",
      "188:\tlearn: 0.0680953\ttotal: 800ms\tremaining: 46.6ms\n",
      "189:\tlearn: 0.0677608\ttotal: 804ms\tremaining: 42.3ms\n",
      "190:\tlearn: 0.0674235\ttotal: 809ms\tremaining: 38.1ms\n",
      "191:\tlearn: 0.0672531\ttotal: 815ms\tremaining: 34ms\n",
      "192:\tlearn: 0.0667801\ttotal: 820ms\tremaining: 29.7ms\n",
      "193:\tlearn: 0.0666157\ttotal: 825ms\tremaining: 25.5ms\n",
      "194:\tlearn: 0.0663540\ttotal: 830ms\tremaining: 21.3ms\n",
      "195:\tlearn: 0.0660633\ttotal: 835ms\tremaining: 17ms\n",
      "196:\tlearn: 0.0658641\ttotal: 840ms\tremaining: 12.8ms\n",
      "197:\tlearn: 0.0657317\ttotal: 845ms\tremaining: 8.53ms\n",
      "198:\tlearn: 0.0656410\ttotal: 850ms\tremaining: 4.27ms\n",
      "199:\tlearn: 0.0652232\ttotal: 855ms\tremaining: 0us\n"
     ]
    },
    {
     "ename": "TypeError",
     "evalue": "cannot unpack non-iterable CatBoostClassifier object",
     "output_type": "error",
     "traceback": [
      "\u001b[0;31m---------------------------------------------------------------------------\u001b[0m",
      "\u001b[0;31mTypeError\u001b[0m                                 Traceback (most recent call last)",
      "Input \u001b[0;32mIn [38]\u001b[0m, in \u001b[0;36m<cell line: 2>\u001b[0;34m()\u001b[0m\n\u001b[1;32m      1\u001b[0m model_7 \u001b[38;5;241m=\u001b[39m CatBoostClassifier(iterations\u001b[38;5;241m=\u001b[39m\u001b[38;5;241m200\u001b[39m)\n\u001b[0;32m----> 2\u001b[0m X_resampled, y_resampled \u001b[38;5;241m=\u001b[39m model_7\u001b[38;5;241m.\u001b[39mfit(X_train, y_train)\n\u001b[1;32m      4\u001b[0m model_7\u001b[38;5;241m.\u001b[39mfit(X_resampled, y_resampled)\n\u001b[1;32m      6\u001b[0m pred_7 \u001b[38;5;241m=\u001b[39m model_7\u001b[38;5;241m.\u001b[39mpredict(X_test)\n",
      "\u001b[0;31mTypeError\u001b[0m: cannot unpack non-iterable CatBoostClassifier object"
     ]
    }
   ],
   "source": [
    "model_7 = CatBoostClassifier(iterations=200)\n",
    "X_resampled, y_resampled = model_7.fit(X_train, y_train)\n",
    "\n",
    "model_7.fit(X_resampled, y_resampled)\n",
    "\n",
    "pred_7 = model_7.predict(X_test)\n",
    "# cr6    = classification_report(y_test,pred_6)\n",
    "# print(cr6)\n",
    "score_7 = balanced_accuracy_score(y_test,pred_6)\n",
    "print(score_7)"
   ]
  },
  {
   "cell_type": "code",
   "execution_count": 42,
   "id": "d8309c6c",
   "metadata": {},
   "outputs": [
    {
     "data": {
      "text/html": [
       "<div>\n",
       "<style scoped>\n",
       "    .dataframe tbody tr th:only-of-type {\n",
       "        vertical-align: middle;\n",
       "    }\n",
       "\n",
       "    .dataframe tbody tr th {\n",
       "        vertical-align: top;\n",
       "    }\n",
       "\n",
       "    .dataframe thead th {\n",
       "        text-align: right;\n",
       "    }\n",
       "</style>\n",
       "<table border=\"1\" class=\"dataframe\">\n",
       "  <thead>\n",
       "    <tr style=\"text-align: right;\">\n",
       "      <th></th>\n",
       "      <th>Model</th>\n",
       "      <th>Accuracy</th>\n",
       "    </tr>\n",
       "  </thead>\n",
       "  <tbody>\n",
       "    <tr>\n",
       "      <th>0</th>\n",
       "      <td>Logistic Regression</td>\n",
       "      <td>0.715145</td>\n",
       "    </tr>\n",
       "    <tr>\n",
       "      <th>1</th>\n",
       "      <td>Naive Bayes</td>\n",
       "      <td>0.710201</td>\n",
       "    </tr>\n",
       "    <tr>\n",
       "      <th>2</th>\n",
       "      <td>Random Forest</td>\n",
       "      <td>0.904319</td>\n",
       "    </tr>\n",
       "    <tr>\n",
       "      <th>3</th>\n",
       "      <td>LSTM</td>\n",
       "      <td>0.991799</td>\n",
       "    </tr>\n",
       "  </tbody>\n",
       "</table>\n",
       "</div>"
      ],
      "text/plain": [
       "                 Model  Accuracy\n",
       "0  Logistic Regression  0.715145\n",
       "1          Naive Bayes  0.710201\n",
       "2        Random Forest  0.904319\n",
       "3                 LSTM  0.991799"
      ]
     },
     "execution_count": 42,
     "metadata": {},
     "output_type": "execute_result"
    }
   ],
   "source": [
    "results = pd.DataFrame([[\"Logistic Regression\",score_1],[\"Naive Bayes\",score_2],\n",
    "                       [\"Random Forest\",score_4],[\"LSTM\",score_0]],columns=[\"Model\",\"Accuracy\"])\n",
    "\n",
    "results"
   ]
  },
  {
   "cell_type": "code",
   "execution_count": null,
   "id": "ef8dac8d",
   "metadata": {},
   "outputs": [],
   "source": []
  }
 ],
 "metadata": {
  "kernelspec": {
   "display_name": "Python 3 (ipykernel)",
   "language": "python",
   "name": "python3"
  },
  "language_info": {
   "codemirror_mode": {
    "name": "ipython",
    "version": 3
   },
   "file_extension": ".py",
   "mimetype": "text/x-python",
   "name": "python",
   "nbconvert_exporter": "python",
   "pygments_lexer": "ipython3",
   "version": "3.9.7"
  }
 },
 "nbformat": 4,
 "nbformat_minor": 5
}
